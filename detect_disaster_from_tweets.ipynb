{
 "cells": [
  {
   "cell_type": "code",
   "execution_count": 30,
   "metadata": {},
   "outputs": [
    {
     "name": "stderr",
     "output_type": "stream",
     "text": [
      "[nltk_data] Downloading package stopwords to\n",
      "[nltk_data]     C:\\Users\\poeun\\AppData\\Roaming\\nltk_data...\n",
      "[nltk_data]   Package stopwords is already up-to-date!\n",
      "[nltk_data] Downloading package punkt to\n",
      "[nltk_data]     C:\\Users\\poeun\\AppData\\Roaming\\nltk_data...\n",
      "[nltk_data]   Package punkt is already up-to-date!\n"
     ]
    }
   ],
   "source": [
    "import pandas as pd\n",
    "import numpy as np\n",
    "import matplotlib.pyplot as plt\n",
    "import seaborn as sns\n",
    "import re\n",
    "\n",
    "import nltk \n",
    "nltk.download('stopwords')\n",
    "nltk.download('punkt')\n",
    "from nltk.corpus import stopwords\n",
    "from nltk.tokenize import word_tokenize \n",
    "from nltk.stem import SnowballStemmer\n",
    "\n",
    "from sklearn import model_selection, metrics, preprocessing, ensemble, model_selection, metrics\n",
    "from sklearn.feature_extraction.text import CountVectorizer, TfidfVectorizer\n",
    "\n",
    "\n",
    "import tensorflow as tf\n",
    "from tensorflow.keras.models import Model\n",
    "from tensorflow.keras.preprocessing.text import Tokenizer\n",
    "from tensorflow.keras.preprocessing.sequence import pad_sequences\n",
    "from tensorflow.keras.layers import Conv1D, Bidirectional, LSTM, Dense, Dropout, Input, SpatialDropout1D\n",
    "from tensorflow.keras.callbacks import ModelCheckpoint, ReduceLROnPlateau\n",
    "from tensorflow.keras.optimizers import Adam\n"
   ]
  },
  {
   "cell_type": "code",
   "execution_count": 31,
   "metadata": {},
   "outputs": [],
   "source": [
    "# mlflow library\n",
    "import mlflow\n",
    "import argparse\n",
    "import sys\n",
    "from mlflow import pyfunc\n",
    "import shutil\n",
    "import tempfile\n",
    "import tensorflow as tf\n",
    "from tensorflow import estimator as tf_estimator\n",
    "import mlflow.tensorflow"
   ]
  },
  {
   "cell_type": "code",
   "execution_count": 32,
   "metadata": {},
   "outputs": [
    {
     "data": {
      "text/plain": [
       "_StoreAction(option_strings=['--train_steps'], dest='train_steps', nargs=None, const=None, default=1000, type=<class 'int'>, choices=None, help='number of training steps', metavar=None)"
      ]
     },
     "execution_count": 32,
     "metadata": {},
     "output_type": "execute_result"
    }
   ],
   "source": [
    "# Enable auto-logging to MLflow to capture TensorBoard metrics.\n",
    "mlflow.tensorflow.autolog()\n",
    "\n",
    "parser = argparse.ArgumentParser()\n",
    "parser.add_argument(\"--batch_size\", default=100, type=int, help=\"batch size\")\n",
    "parser.add_argument(\"--train_steps\", default=1000, type=int, help=\"number of training steps\")"
   ]
  },
  {
   "cell_type": "markdown",
   "metadata": {},
   "source": [
    "## Read train data"
   ]
  },
  {
   "cell_type": "code",
   "execution_count": 33,
   "metadata": {},
   "outputs": [
    {
     "name": "stdout",
     "output_type": "stream",
     "text": [
      "Data points count:  7613\n"
     ]
    },
    {
     "data": {
      "text/html": [
       "<div>\n",
       "<style scoped>\n",
       "    .dataframe tbody tr th:only-of-type {\n",
       "        vertical-align: middle;\n",
       "    }\n",
       "\n",
       "    .dataframe tbody tr th {\n",
       "        vertical-align: top;\n",
       "    }\n",
       "\n",
       "    .dataframe thead th {\n",
       "        text-align: right;\n",
       "    }\n",
       "</style>\n",
       "<table border=\"1\" class=\"dataframe\">\n",
       "  <thead>\n",
       "    <tr style=\"text-align: right;\">\n",
       "      <th></th>\n",
       "      <th>id</th>\n",
       "      <th>keyword</th>\n",
       "      <th>location</th>\n",
       "      <th>text</th>\n",
       "      <th>target</th>\n",
       "    </tr>\n",
       "  </thead>\n",
       "  <tbody>\n",
       "    <tr>\n",
       "      <th>0</th>\n",
       "      <td>1</td>\n",
       "      <td>NaN</td>\n",
       "      <td>NaN</td>\n",
       "      <td>Our Deeds are the Reason of this #earthquake M...</td>\n",
       "      <td>1</td>\n",
       "    </tr>\n",
       "    <tr>\n",
       "      <th>1</th>\n",
       "      <td>4</td>\n",
       "      <td>NaN</td>\n",
       "      <td>NaN</td>\n",
       "      <td>Forest fire near La Ronge Sask. Canada</td>\n",
       "      <td>1</td>\n",
       "    </tr>\n",
       "    <tr>\n",
       "      <th>2</th>\n",
       "      <td>5</td>\n",
       "      <td>NaN</td>\n",
       "      <td>NaN</td>\n",
       "      <td>All residents asked to 'shelter in place' are ...</td>\n",
       "      <td>1</td>\n",
       "    </tr>\n",
       "    <tr>\n",
       "      <th>3</th>\n",
       "      <td>6</td>\n",
       "      <td>NaN</td>\n",
       "      <td>NaN</td>\n",
       "      <td>13,000 people receive #wildfires evacuation or...</td>\n",
       "      <td>1</td>\n",
       "    </tr>\n",
       "    <tr>\n",
       "      <th>4</th>\n",
       "      <td>7</td>\n",
       "      <td>NaN</td>\n",
       "      <td>NaN</td>\n",
       "      <td>Just got sent this photo from Ruby #Alaska as ...</td>\n",
       "      <td>1</td>\n",
       "    </tr>\n",
       "  </tbody>\n",
       "</table>\n",
       "</div>"
      ],
      "text/plain": [
       "   id keyword location                                               text  \\\n",
       "0   1     NaN      NaN  Our Deeds are the Reason of this #earthquake M...   \n",
       "1   4     NaN      NaN             Forest fire near La Ronge Sask. Canada   \n",
       "2   5     NaN      NaN  All residents asked to 'shelter in place' are ...   \n",
       "3   6     NaN      NaN  13,000 people receive #wildfires evacuation or...   \n",
       "4   7     NaN      NaN  Just got sent this photo from Ruby #Alaska as ...   \n",
       "\n",
       "   target  \n",
       "0       1  \n",
       "1       1  \n",
       "2       1  \n",
       "3       1  \n",
       "4       1  "
      ]
     },
     "execution_count": 33,
     "metadata": {},
     "output_type": "execute_result"
    }
   ],
   "source": [
    "# Rreading train dataset\n",
    "file_path = \"./data/train.csv\"\n",
    "raw_data = pd.read_csv(file_path)\n",
    "print(\"Data points count: \", raw_data['id'].count())\n",
    "raw_data.head()\n"
   ]
  },
  {
   "cell_type": "code",
   "execution_count": 34,
   "metadata": {},
   "outputs": [
    {
     "data": {
      "image/png": "[encoded data removed]",
      "text/plain": [
       "<Figure size 720x576 with 1 Axes>"
      ]
     },
     "metadata": {
      "needs_background": "light"
     },
     "output_type": "display_data"
    }
   ],
   "source": [
    "# Plotting target value counts\n",
    "plt.figure(figsize=(10,8))\n",
    "ax = raw_data['target'].value_counts().sort_values().plot(kind=\"bar\")\n",
    "ax.grid(axis=\"y\")\n",
    "plt.suptitle(\"Target Value Counts\", fontsize=20)\n",
    "plt.show()\n"
   ]
  },
  {
   "cell_type": "markdown",
   "metadata": {},
   "source": [
    "## Missing Data"
   ]
  },
  {
   "cell_type": "code",
   "execution_count": 35,
   "metadata": {},
   "outputs": [
    {
     "name": "stdout",
     "output_type": "stream",
     "text": [
      "Number of missing data for column keyword:  61\n",
      "Number of missing data for column location:  2533\n",
      "Number of missing data for column text:  0\n",
      "Number of missing data for column target:  0\n"
     ]
    }
   ],
   "source": [
    "print(\"Number of missing data for column keyword: \", raw_data['keyword'].isna().sum())\n",
    "print(\"Number of missing data for column location: \", raw_data['location'].isna().sum())\n",
    "print(\"Number of missing data for column text: \", raw_data['text'].isna().sum())\n",
    "print(\"Number of missing data for column target: \", raw_data['target'].isna().sum())\n"
   ]
  },
  {
   "cell_type": "code",
   "execution_count": 36,
   "metadata": {},
   "outputs": [
    {
     "data": {
      "image/png": "[encoded data removed]",
      "text/plain": [
       "<Figure size 1080x576 with 1 Axes>"
      ]
     },
     "metadata": {
      "needs_background": "light"
     },
     "output_type": "display_data"
    }
   ],
   "source": [
    "plt.figure(figsize=(15,8))\n",
    "sns.heatmap(raw_data.drop('id', axis=1).isnull(), cbar=False, cmap=\"GnBu\").set_title(\"Missing data for each column\")\n",
    "plt.show()"
   ]
  },
  {
   "cell_type": "markdown",
   "metadata": {},
   "source": [
    "## Cleaning Data"
   ]
  },
  {
   "cell_type": "code",
   "execution_count": 37,
   "metadata": {
    "scrolled": false
   },
   "outputs": [
    {
     "name": "stderr",
     "output_type": "stream",
     "text": [
      "C:\\Users\\poeun\\anaconda3\\envs\\tf2.8\\lib\\site-packages\\seaborn\\distributions.py:2619: FutureWarning: `distplot` is a deprecated function and will be removed in a future version. Please adapt your code to use either `displot` (a figure-level function with similar flexibility) or `histplot` (an axes-level function for histograms).\n",
      "  warnings.warn(msg, FutureWarning)\n"
     ]
    },
    {
     "data": {
      "image/png": "[encoded data removed]",
      "text/plain": [
       "<Figure size 1080x576 with 1 Axes>"
      ]
     },
     "metadata": {
      "needs_background": "light"
     },
     "output_type": "display_data"
    }
   ],
   "source": [
    "plt.figure(figsize=(15,8))\n",
    "raw_data['word_count'] = raw_data['text'].apply(lambda x: len(x.split(\" \")) )\n",
    "sns.distplot(raw_data['word_count'].values, hist=True, kde=True, kde_kws={\"shade\": True})\n",
    "plt.axvline(raw_data['word_count'].describe()['25%'], ls=\"--\")\n",
    "plt.axvline(raw_data['word_count'].describe()['50%'], ls=\"--\")\n",
    "plt.axvline(raw_data['word_count'].describe()['75%'], ls=\"--\")\n",
    "\n",
    "plt.grid()\n",
    "plt.suptitle(\"Word count histogram\")\n",
    "plt.show()\n",
    "\n",
    "# remove rows with under 3 words\n",
    "raw_data = raw_data[raw_data['word_count']>2]\n",
    "raw_data = raw_data.reset_index()\n"
   ]
  },
  {
   "cell_type": "code",
   "execution_count": 38,
   "metadata": {},
   "outputs": [
    {
     "name": "stdout",
     "output_type": "stream",
     "text": [
      "25th percentile:  11.0\n",
      "mean:  15.0\n",
      "75th percentile:  19.0\n"
     ]
    }
   ],
   "source": [
    "print(\"25th percentile: \", raw_data['word_count'].describe()['25%'])\n",
    "print(\"mean: \", raw_data['word_count'].describe()['50%'])\n",
    "print(\"75th percentile: \", raw_data['word_count'].describe()['75%'])"
   ]
  },
  {
   "cell_type": "code",
   "execution_count": 39,
   "metadata": {},
   "outputs": [],
   "source": [
    "# Clean text columns\n",
    "stop_words = set(stopwords.words('english'))\n",
    "stemmer = SnowballStemmer('english')\n",
    "\n",
    "\n",
    "def clean_text(each_text):\n",
    "\n",
    "    # remove URL from text\n",
    "    each_text_no_url = re.sub(r\"http\\S+\", \"\", each_text)\n",
    "    \n",
    "    # remove numbers from text\n",
    "    text_no_num = re.sub(r'\\d+', '', each_text_no_url)\n",
    "\n",
    "    # tokenize each text\n",
    "    word_tokens = word_tokenize(text_no_num)\n",
    "    \n",
    "    # remove sptial character\n",
    "    clean_text = []\n",
    "    for word in word_tokens:\n",
    "        clean_text.append(\"\".join([e for e in word if e.isalnum()]))\n",
    "\n",
    "    # remove stop words and lower\n",
    "    text_with_no_stop_word = [w.lower() for w in clean_text if not w in stop_words]  \n",
    "\n",
    "    # do stemming\n",
    "    stemmed_text = [stemmer.stem(w) for w in text_with_no_stop_word]\n",
    "    \n",
    "    return \" \".join(\" \".join(stemmed_text).split())\n",
    "\n",
    "\n",
    "raw_data['clean_text'] = raw_data['text'].apply(lambda x: clean_text(x) )\n",
    "raw_data['keyword'] = raw_data['keyword'].fillna(\"none\")\n",
    "raw_data['clean_keyword'] = raw_data['keyword'].apply(lambda x: clean_text(x) )\n"
   ]
  },
  {
   "cell_type": "code",
   "execution_count": 40,
   "metadata": {},
   "outputs": [],
   "source": [
    "# Combine column 'clean_keyword' and 'clean_text' into one\n",
    "raw_data['keyword_text'] = raw_data['clean_keyword'] + \" \" + raw_data[\"clean_text\"]\n"
   ]
  },
  {
   "cell_type": "markdown",
   "metadata": {},
   "source": [
    "## Prepare train and test data"
   ]
  },
  {
   "cell_type": "code",
   "execution_count": 41,
   "metadata": {},
   "outputs": [],
   "source": [
    "feature = 'keyword_text'\n",
    "label = \"target\"\n",
    "\n",
    "# split train and test\n",
    "X_train, X_test,y_train, y_test = model_selection.train_test_split(raw_data[feature],\n",
    "                                                                   raw_data[label],\n",
    "                                                                   test_size=0.3,\n",
    "                                                                   random_state=0, \n",
    "                                                                   shuffle=True)\n"
   ]
  },
  {
   "cell_type": "markdown",
   "metadata": {},
   "source": [
    "# LSTM"
   ]
  },
  {
   "cell_type": "code",
   "execution_count": 42,
   "metadata": {},
   "outputs": [],
   "source": [
    "# Define some hyperparameters\n",
    "path_to_glove_file = 'F:/data/glove.6B.300d.txt' # download link: http://nlp.stanford.edu/data/glove.6B.zip\n",
    "embedding_dim = 300\n",
    "learning_rate = 1e-3\n",
    "batch_size = 1024 # original : 1024\n",
    "epochs = 10 # original : 20\n",
    "sequence_len = 100\n"
   ]
  },
  {
   "cell_type": "code",
   "execution_count": 43,
   "metadata": {
    "scrolled": true
   },
   "outputs": [
    {
     "name": "stdout",
     "output_type": "stream",
     "text": [
      "Training Y shape: (5294, 1)\n",
      "Testing Y shape: (2270, 1)\n"
     ]
    }
   ],
   "source": [
    "# Define train and test labels\n",
    "y_train_LSTM = y_train.values.reshape(-1,1)\n",
    "y_test_LSTM = y_test.values.reshape(-1,1)\n",
    "\n",
    "print(\"Training Y shape:\", y_train_LSTM.shape)\n",
    "print(\"Testing Y shape:\", y_test_LSTM.shape)\n"
   ]
  },
  {
   "cell_type": "code",
   "execution_count": 44,
   "metadata": {},
   "outputs": [
    {
     "name": "stdout",
     "output_type": "stream",
     "text": [
      "Vocabulary Size:  11148\n"
     ]
    }
   ],
   "source": [
    "# Tokenize train data\n",
    "tokenizer = Tokenizer()\n",
    "tokenizer.fit_on_texts(X_train)\n",
    "\n",
    "word_index = tokenizer.word_index\n",
    "vocab_size = len(word_index) + 1\n",
    "print(\"Vocabulary Size: \", vocab_size)\n"
   ]
  },
  {
   "cell_type": "code",
   "execution_count": 45,
   "metadata": {},
   "outputs": [
    {
     "name": "stdout",
     "output_type": "stream",
     "text": [
      "Training X shape:  (5294, 100)\n",
      "Testing X shape:  (2270, 100)\n"
     ]
    }
   ],
   "source": [
    "# Pad train and test \n",
    "X_train = pad_sequences(tokenizer.texts_to_sequences(X_train), maxlen=sequence_len)\n",
    "X_test = pad_sequences(tokenizer.texts_to_sequences(X_test), maxlen=sequence_len)\n",
    "\n",
    "print(\"Training X shape: \", X_train.shape)\n",
    "print(\"Testing X shape: \", X_test.shape)\n"
   ]
  },
  {
   "cell_type": "code",
   "execution_count": 46,
   "metadata": {},
   "outputs": [
    {
     "name": "stdout",
     "output_type": "stream",
     "text": [
      "Found 400000 word vectors.\n"
     ]
    }
   ],
   "source": [
    "# Read word embeddings\n",
    "embeddings_index = {}\n",
    "with open(path_to_glove_file, encoding='UTF8') as f:\n",
    "    for line in f:\n",
    "        word, coefs = line.split(maxsplit=1)\n",
    "        coefs = np.fromstring(coefs, \"f\", sep=\" \")\n",
    "        embeddings_index[word] = coefs\n",
    "\n",
    "print(\"Found %s word vectors.\" % len(embeddings_index))\n"
   ]
  },
  {
   "cell_type": "code",
   "execution_count": 47,
   "metadata": {},
   "outputs": [],
   "source": [
    "# Define embedding layer in Keras\n",
    "embedding_matrix = np.zeros((vocab_size, embedding_dim))\n",
    "for word, i in word_index.items():\n",
    "    embedding_vector = embeddings_index.get(word)\n",
    "    if embedding_vector is not None:\n",
    "        embedding_matrix[i] = embedding_vector\n",
    "        \n",
    "embedding_layer = tf.keras.layers.Embedding(vocab_size,\n",
    "                                            embedding_dim,\n",
    "                                            weights=[embedding_matrix],\n",
    "                                            input_length=sequence_len,\n",
    "                                            trainable=False)\n"
   ]
  },
  {
   "cell_type": "code",
   "execution_count": 48,
   "metadata": {},
   "outputs": [
    {
     "name": "stdout",
     "output_type": "stream",
     "text": [
      "WARNING:tensorflow:Layer lstm_1 will not use cuDNN kernels since it doesn't meet the criteria. It will use a generic GPU kernel as fallback when running on GPU.\n"
     ]
    },
    {
     "name": "stderr",
     "output_type": "stream",
     "text": [
      "WARNING:tensorflow:Layer lstm_1 will not use cuDNN kernels since it doesn't meet the criteria. It will use a generic GPU kernel as fallback when running on GPU.\n"
     ]
    },
    {
     "name": "stdout",
     "output_type": "stream",
     "text": [
      "WARNING:tensorflow:Layer lstm_1 will not use cuDNN kernels since it doesn't meet the criteria. It will use a generic GPU kernel as fallback when running on GPU.\n"
     ]
    },
    {
     "name": "stderr",
     "output_type": "stream",
     "text": [
      "WARNING:tensorflow:Layer lstm_1 will not use cuDNN kernels since it doesn't meet the criteria. It will use a generic GPU kernel as fallback when running on GPU.\n"
     ]
    },
    {
     "name": "stdout",
     "output_type": "stream",
     "text": [
      "WARNING:tensorflow:Layer lstm_1 will not use cuDNN kernels since it doesn't meet the criteria. It will use a generic GPU kernel as fallback when running on GPU.\n"
     ]
    },
    {
     "name": "stderr",
     "output_type": "stream",
     "text": [
      "WARNING:tensorflow:Layer lstm_1 will not use cuDNN kernels since it doesn't meet the criteria. It will use a generic GPU kernel as fallback when running on GPU.\n"
     ]
    },
    {
     "name": "stdout",
     "output_type": "stream",
     "text": [
      "Model: \"model_1\"\n",
      "_________________________________________________________________\n",
      " Layer (type)                Output Shape              Param #   \n",
      "=================================================================\n",
      " input_2 (InputLayer)        [(None, 100)]             0         \n",
      "                                                                 \n",
      " embedding_1 (Embedding)     (None, 100, 300)          3344400   \n",
      "                                                                 \n",
      " conv1d_1 (Conv1D)           (None, 96, 128)           192128    \n",
      "                                                                 \n",
      " bidirectional_1 (Bidirectio  (None, 256)              263168    \n",
      " nal)                                                            \n",
      "                                                                 \n",
      " dense_3 (Dense)             (None, 512)               131584    \n",
      "                                                                 \n",
      " dropout_1 (Dropout)         (None, 512)               0         \n",
      "                                                                 \n",
      " dense_4 (Dense)             (None, 512)               262656    \n",
      "                                                                 \n",
      " dense_5 (Dense)             (None, 1)                 513       \n",
      "                                                                 \n",
      "=================================================================\n",
      "Total params: 4,194,449\n",
      "Trainable params: 850,049\n",
      "Non-trainable params: 3,344,400\n",
      "_________________________________________________________________\n"
     ]
    }
   ],
   "source": [
    "# Define model architecture\n",
    "sequence_input = Input(shape=(sequence_len, ), dtype='int32')\n",
    "embedding_sequences = embedding_layer(sequence_input)\n",
    "\n",
    "x = Conv1D(128, 5, activation='relu')(embedding_sequences)\n",
    "x = Bidirectional(LSTM(128, dropout=0.5, recurrent_dropout=0.2))(x)\n",
    "x = Dense(512, activation='relu')(x)\n",
    "x = Dropout(0.5)(x)\n",
    "x = Dense(512, activation='relu')(x)\n",
    "outputs = Dense(1, activation='sigmoid')(x)\n",
    "model = Model(sequence_input, outputs)\n",
    "model.summary()\n"
   ]
  },
  {
   "cell_type": "code",
   "execution_count": 49,
   "metadata": {},
   "outputs": [],
   "source": [
    "# Optimize the model\n",
    "model.compile(optimizer=Adam(learning_rate=learning_rate), loss='binary_crossentropy', metrics=['accuracy'])\n"
   ]
  },
  {
   "cell_type": "code",
   "execution_count": 50,
   "metadata": {},
   "outputs": [
    {
     "name": "stdout",
     "output_type": "stream",
     "text": [
      "Epoch 1/10\n",
      "6/6 [==============================] - 35s 5s/step - loss: 0.6605 - accuracy: 0.5848 - val_loss: 0.5714 - val_accuracy: 0.7141\n",
      "Epoch 2/10\n",
      "6/6 [==============================] - 30s 5s/step - loss: 0.5491 - accuracy: 0.7440 - val_loss: 0.5155 - val_accuracy: 0.7599\n",
      "Epoch 3/10\n",
      "6/6 [==============================] - 30s 5s/step - loss: 0.4970 - accuracy: 0.7688 - val_loss: 0.5145 - val_accuracy: 0.7502\n",
      "Epoch 4/10\n",
      "6/6 [==============================] - 28s 5s/step - loss: 0.4788 - accuracy: 0.7760 - val_loss: 0.4896 - val_accuracy: 0.7744\n",
      "Epoch 5/10\n",
      "6/6 [==============================] - 29s 5s/step - loss: 0.4469 - accuracy: 0.7996 - val_loss: 0.4715 - val_accuracy: 0.7828\n",
      "Epoch 6/10\n",
      "6/6 [==============================] - 30s 5s/step - loss: 0.4254 - accuracy: 0.8109 - val_loss: 0.4872 - val_accuracy: 0.7824\n",
      "Epoch 7/10\n",
      "6/6 [==============================] - 30s 5s/step - loss: 0.4091 - accuracy: 0.8196 - val_loss: 0.4902 - val_accuracy: 0.7824\n",
      "Epoch 8/10\n",
      "6/6 [==============================] - 30s 5s/step - loss: 0.3929 - accuracy: 0.8243 - val_loss: 0.5040 - val_accuracy: 0.7797\n",
      "Epoch 9/10\n",
      "6/6 [==============================] - 28s 5s/step - loss: 0.3693 - accuracy: 0.8417 - val_loss: 0.4865 - val_accuracy: 0.7956\n",
      "Epoch 10/10\n",
      "6/6 [==============================] - 28s 5s/step - loss: 0.3311 - accuracy: 0.8612 - val_loss: 0.5027 - val_accuracy: 0.7890\n",
      "INFO:tensorflow:Assets written to: C:\\Users\\poeun\\AppData\\Local\\Temp\\tmpj8dutw2r\\model\\data\\model\\assets\n"
     ]
    },
    {
     "name": "stderr",
     "output_type": "stream",
     "text": [
      "INFO:tensorflow:Assets written to: C:\\Users\\poeun\\AppData\\Local\\Temp\\tmpj8dutw2r\\model\\data\\model\\assets\n",
      "WARNING:absl:<keras.layers.recurrent.LSTMCell object at 0x00000227E5F3E7F0> has the same name 'LSTMCell' as a built-in Keras object. Consider renaming <class 'keras.layers.recurrent.LSTMCell'> to avoid naming conflicts when loading with `tf.keras.models.load_model`. If renaming is not possible, pass the object in the `custom_objects` parameter of the load function.\n",
      "WARNING:absl:<keras.layers.recurrent.LSTMCell object at 0x00000227EAE78DF0> has the same name 'LSTMCell' as a built-in Keras object. Consider renaming <class 'keras.layers.recurrent.LSTMCell'> to avoid naming conflicts when loading with `tf.keras.models.load_model`. If renaming is not possible, pass the object in the `custom_objects` parameter of the load function.\n",
      "2022/04/07 12:15:01 WARNING mlflow.utils.environment: Encountered an unexpected error while inferring pip requirements (model URI: C:\\Users\\poeun\\AppData\\Local\\Temp\\tmpj8dutw2r\\model, flavor: keras), fall back to return ['tensorflow==2.8.0', 'keras==2.8.0']. Set logging level to DEBUG to see the full traceback.\n"
     ]
    }
   ],
   "source": [
    "# Train the LSTM Model\n",
    "history = model.fit(X_train,\n",
    "                    y_train,\n",
    "                    batch_size=batch_size,\n",
    "                    epochs=epochs, \n",
    "                    validation_data=(X_test, y_test))\n"
   ]
  },
  {
   "cell_type": "code",
   "execution_count": 51,
   "metadata": {},
   "outputs": [
    {
     "data": {
      "image/png": "[encoded data removed]",
      "text/plain": [
       "<Figure size 720x288 with 1 Axes>"
      ]
     },
     "metadata": {
      "needs_background": "light"
     },
     "output_type": "display_data"
    }
   ],
   "source": [
    "# Plot train accuracy and loss\n",
    "accuraties = history.history['accuracy']\n",
    "losses = history.history['loss']\n",
    "accuraties_losses = list(zip(accuraties,losses))\n",
    "\n",
    "accuraties_losses_df = pd.DataFrame(accuraties_losses, columns={\"accuracy\", \"loss\"})\n",
    "\n",
    "plt.figure(figsize=(10,4))\n",
    "plt.suptitle(\"Train Accuracy vs Train Loss\")\n",
    "sns.lineplot(data=accuraties_losses_df)\n",
    "plt.show()\n"
   ]
  },
  {
   "cell_type": "code",
   "execution_count": 52,
   "metadata": {},
   "outputs": [
    {
     "name": "stdout",
     "output_type": "stream",
     "text": [
      "1/1 [==============================] - 1s 1s/step\n",
      "1/1 [==============================] - 0s 277ms/step - loss: 0.5027 - accuracy: 0.7890\n",
      "Test Accuracy:  0.7889868021011353\n",
      "              precision    recall  f1-score   support\n",
      "\n",
      "           0       0.76      0.92      0.83      1309\n",
      "           1       0.85      0.61      0.71       961\n",
      "\n",
      "    accuracy                           0.79      2270\n",
      "   macro avg       0.80      0.77      0.77      2270\n",
      "weighted avg       0.80      0.79      0.78      2270\n",
      "\n"
     ]
    }
   ],
   "source": [
    "# Evaluate the model\n",
    "predicted = model.predict(X_test, verbose=1, batch_size=10000)\n",
    "\n",
    "y_predicted = [1 if each > 0.5 else 0 for each in predicted]\n",
    "\n",
    "score, test_accuracy = model.evaluate(X_test, y_test, batch_size=10000)\n",
    "mlflow.log_metric(\"SCORE\", score)\n",
    "mlflow.log_metric(\"TEST_ACCURACY\", test_accuracy)\n",
    "\n",
    "# mlflow.tensorflow.log_model(model, \"model\")\n",
    "\n",
    "\n",
    "print(\"Test Accuracy: \", test_accuracy)\n",
    "print(metrics.classification_report(list(y_test), y_predicted))\n"
   ]
  },
  {
   "cell_type": "code",
   "execution_count": 53,
   "metadata": {},
   "outputs": [
    {
     "data": {
      "image/png": "[encoded data removed]",
      "text/plain": [
       "<Figure size 432x288 with 1 Axes>"
      ]
     },
     "metadata": {
      "needs_background": "light"
     },
     "output_type": "display_data"
    }
   ],
   "source": [
    "# Plot confusion matrix\n",
    "conf_matrix = metrics.confusion_matrix(y_test, y_predicted)\n",
    "\n",
    "fig, ax = plt.subplots()\n",
    "sns.heatmap(conf_matrix, cbar=False, cmap='Reds', annot=True, fmt='d')\n",
    "ax.set(xlabel=\"Predicted Value\", ylabel=\"True Value\", title=\"Confusion Matrix\")\n",
    "ax.set_yticklabels(labels=['0', '1'], rotation=0)\n",
    "plt.show()\n"
   ]
  },
  {
   "cell_type": "code",
   "execution_count": null,
   "metadata": {},
   "outputs": [],
   "source": []
  }
 ],
 "metadata": {
  "kernelspec": {
   "display_name": "Python 3",
   "language": "python",
   "name": "python3"
  },
  "language_info": {
   "codemirror_mode": {
    "name": "ipython",
    "version": 3
   },
   "file_extension": ".py",
   "mimetype": "text/x-python",
   "name": "python",
   "nbconvert_exporter": "python",
   "pygments_lexer": "ipython3",
   "version": "3.9.12"
  }
 },
 "nbformat": 4,
 "nbformat_minor": 2
}
